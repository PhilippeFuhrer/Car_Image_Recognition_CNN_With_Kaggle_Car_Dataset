{
 "cells": [
  {
   "cell_type": "code",
   "execution_count": 24,
   "metadata": {},
   "outputs": [],
   "source": [
    "import requests\n",
    "from bs4 import BeautifulSoup\n",
    "import urllib.request\n",
    "import csv\n",
    "\n",
    "f = open(\"_car_info_scraped_from_car4you_V2.csv\", \"w\", newline=\"\")\n",
    "thewriter = csv.writer(f)\n",
    "thewriter.writerow([\"brand\", \"model\", \"km\", \"fuel_type\", \"price\"])\n",
    "\n",
    "carbrands = [\"vw\", \"toyota\", \"ford\", \"bmw\", \"nissan\", \"audi\", \"mercedes-benz\", \"honda\", \"kia\", \"volvo\"]\n",
    "chars_to_remove=[\"/\",\"*\"]\n",
    "\n",
    "for brand in carbrands:\n",
    "    page = 0\n",
    "    while page <= 100:\n",
    "        try:\n",
    "            url = \"https://www.carforyou.ch/de/auto/\"+brand+\"?page=\"+str(page)\n",
    "            response = requests.get(url)\n",
    "            soup = BeautifulSoup(response.content, \"lxml\")\n",
    "            images = soup.find_all(\"img\")\n",
    "\n",
    "            ## price\n",
    "            prices = soup.find_all(\"p\", class_ = \"text-grey-dark leading-sm font-bold w-12/12\")\n",
    "            #price = prices[3].text\n",
    "            ## info\n",
    "            infos = soup.find_all(\"p\", class_ = \"text-grey-4 md:text-md leading-xs pb-14\")\n",
    "            #info = infos[3].text\n",
    "            ## model\n",
    "            models = soup.find_all(\"h1\", class_ = \"text-md leading-xs text-grey-dark font-regular mb-10\")\n",
    "            #model = models[3].text\n",
    "\n",
    "            count = 0\n",
    "            for image in images:\n",
    "                text_for_name = str(brand+\",\"+str(models[count].text.replace(\"/\",\",\"))+\",\"+str(infos[count].text.replace(\" · \",\",\"))+\",\"+str(prices[count].text[4:])+\",\"+str(count))\n",
    "                for character in chars_to_remove:\n",
    "                    text_for_name = text_for_name.replace(character, \"\")\n",
    "                image_src = image[\"src\"]\n",
    "                thewriter.writerow([text_for_name])\n",
    "                urllib.request.urlretrieve(image_src, text_for_name+\".jpg\")\n",
    "                count = count+1\n",
    "        except:\n",
    "            break\n",
    "        page = page+1"
   ]
  },
  {
   "cell_type": "code",
   "execution_count": null,
   "metadata": {},
   "outputs": [],
   "source": []
  }
 ],
 "metadata": {
  "kernelspec": {
   "display_name": "Python 3",
   "language": "python",
   "name": "python3"
  },
  "language_info": {
   "codemirror_mode": {
    "name": "ipython",
    "version": 3
   },
   "file_extension": ".py",
   "mimetype": "text/x-python",
   "name": "python",
   "nbconvert_exporter": "python",
   "pygments_lexer": "ipython3",
   "version": "3.8.5"
  }
 },
 "nbformat": 4,
 "nbformat_minor": 4
}
